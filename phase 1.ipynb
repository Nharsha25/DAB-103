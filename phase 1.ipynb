{
 "cells": [
  {
   "cell_type": "code",
   "execution_count": 14,
   "id": "a6fd654f",
   "metadata": {},
   "outputs": [],
   "source": [
    "# Importing Packages\n",
    "\n",
    "import pandas as pd\n",
    "import matplotlib.pyplot as plt\n",
    "import seaborn as sns"
   ]
  },
  {
   "cell_type": "code",
   "execution_count": 2,
   "id": "d126a2e0",
   "metadata": {},
   "outputs": [],
   "source": [
    "# loading the Data sets\n",
    "\n",
    "deliveries = pd.read_csv(r\"C:/Users/Juttu Abhiroop/Downloads/deliveries.csv\")\n",
    "matches = pd.read_csv(r\"C:/Users/Juttu Abhiroop/Downloads/matches.csv\")\n",
    "avgstrike = pd.read_csv(r\"C:/Users/Juttu Abhiroop/Downloads/avgstrike.csv\")\n",
    "players = pd.read_csv(r\"C:/Users/Juttu Abhiroop/Downloads/Players.csv\")\n",
    "teams = pd.read_csv(r\"C:/Users/Juttu Abhiroop/Downloads/teams.csv\")\n",
    "teamwisewinnigs = pd.read_csv(r\"C:/Users/Juttu Abhiroop/Downloads/teamwise winnigs.csv\")\n"
   ]
  },
  {
   "cell_type": "code",
   "execution_count": 15,
   "id": "2b4c53e7",
   "metadata": {},
   "outputs": [
    {
     "name": "stdout",
     "output_type": "stream",
     "text": [
      "   match_id  inning         batting_team                 bowling_team  over  \\\n",
      "0         1       1  Sunrisers Hyderabad  Royal Challengers Bangalore     1   \n",
      "1         1       1  Sunrisers Hyderabad  Royal Challengers Bangalore     1   \n",
      "2         1       1  Sunrisers Hyderabad  Royal Challengers Bangalore     1   \n",
      "3         1       1  Sunrisers Hyderabad  Royal Challengers Bangalore     1   \n",
      "4         1       1  Sunrisers Hyderabad  Royal Challengers Bangalore     1   \n",
      "\n",
      "   ball    batsman non_striker    bowler  is_super_over  ...  bye_runs  \\\n",
      "0     1  DA Warner    S Dhawan  TS Mills              0  ...         0   \n",
      "1     2  DA Warner    S Dhawan  TS Mills              0  ...         0   \n",
      "2     3  DA Warner    S Dhawan  TS Mills              0  ...         0   \n",
      "3     4  DA Warner    S Dhawan  TS Mills              0  ...         0   \n",
      "4     5  DA Warner    S Dhawan  TS Mills              0  ...         0   \n",
      "\n",
      "   legbye_runs  noball_runs  penalty_runs  batsman_runs  extra_runs  \\\n",
      "0            0            0             0             0           0   \n",
      "1            0            0             0             0           0   \n",
      "2            0            0             0             4           0   \n",
      "3            0            0             0             0           0   \n",
      "4            0            0             0             0           2   \n",
      "\n",
      "   total_runs  player_dismissed dismissal_kind fielder  \n",
      "0           0               NaN            NaN     NaN  \n",
      "1           0               NaN            NaN     NaN  \n",
      "2           4               NaN            NaN     NaN  \n",
      "3           0               NaN            NaN     NaN  \n",
      "4           2               NaN            NaN     NaN  \n",
      "\n",
      "[5 rows x 21 columns]\n"
     ]
    }
   ],
   "source": [
    "# Viewing first 5 rows\n",
    "\n",
    "print(deliveries.head())"
   ]
  },
  {
   "cell_type": "code",
   "execution_count": 4,
   "id": "9c91d059",
   "metadata": {},
   "outputs": [
    {
     "name": "stdout",
     "output_type": "stream",
     "text": [
      "        id    Season           city        date                  team1  \\\n",
      "751  11347  IPL-2019         Mumbai  05-05-2019  Kolkata Knight Riders   \n",
      "752  11412  IPL-2019        Chennai  07-05-2019    Chennai Super Kings   \n",
      "753  11413  IPL-2019  Visakhapatnam  08-05-2019    Sunrisers Hyderabad   \n",
      "754  11414  IPL-2019  Visakhapatnam  10-05-2019         Delhi Capitals   \n",
      "755  11415  IPL-2019      Hyderabad  12-05-2019         Mumbai Indians   \n",
      "\n",
      "                   team2          toss_winner toss_decision  result  \\\n",
      "751       Mumbai Indians       Mumbai Indians         field  normal   \n",
      "752       Mumbai Indians  Chennai Super Kings           bat  normal   \n",
      "753       Delhi Capitals       Delhi Capitals         field  normal   \n",
      "754  Chennai Super Kings  Chennai Super Kings         field  normal   \n",
      "755  Chennai Super Kings       Mumbai Indians           bat  normal   \n",
      "\n",
      "     dl_applied               winner  win_by_runs  win_by_wickets  \\\n",
      "751           0       Mumbai Indians            0               9   \n",
      "752           0       Mumbai Indians            0               6   \n",
      "753           0       Delhi Capitals            0               2   \n",
      "754           0  Chennai Super Kings            0               6   \n",
      "755           0       Mumbai Indians            1               0   \n",
      "\n",
      "    player_of_match                               venue        umpire1  \\\n",
      "751       HH Pandya                    Wankhede Stadium  Nanda Kishore   \n",
      "752        AS Yadav           M. A. Chidambaram Stadium    Nigel Llong   \n",
      "753         RR Pant                    ACA-VDCA Stadium            NaN   \n",
      "754    F du Plessis                    ACA-VDCA Stadium  Sundaram Ravi   \n",
      "755       JJ Bumrah  Rajiv Gandhi Intl. Cricket Stadium    Nitin Menon   \n",
      "\n",
      "            umpire2                  umpire3  \n",
      "751        O Nandan                   S Ravi  \n",
      "752     Nitin Menon                Ian Gould  \n",
      "753             NaN                      NaN  \n",
      "754  Bruce Oxenford  Chettithody Shamshuddin  \n",
      "755       Ian Gould              Nigel Llong  \n"
     ]
    }
   ],
   "source": [
    "# viewing last 5 rows\n",
    "\n",
    "print(matches.tail())\n",
    "\n"
   ]
  },
  {
   "cell_type": "code",
   "execution_count": 5,
   "id": "d73a6d85",
   "metadata": {},
   "outputs": [
    {
     "name": "stdout",
     "output_type": "stream",
     "text": [
      "(516, 6)\n"
     ]
    }
   ],
   "source": [
    "# dimensions of dataset\n",
    "\n",
    "print(avgstrike.shape)\n"
   ]
  },
  {
   "cell_type": "code",
   "execution_count": 6,
   "id": "72eb1e42",
   "metadata": {},
   "outputs": [
    {
     "name": "stdout",
     "output_type": "stream",
     "text": [
      "<class 'pandas.core.frame.DataFrame'>\n",
      "RangeIndex: 566 entries, 0 to 565\n",
      "Data columns (total 5 columns):\n",
      " #   Column         Non-Null Count  Dtype \n",
      "---  ------         --------------  ----- \n",
      " 0   Player_Name    566 non-null    object\n",
      " 1   DOB            471 non-null    object\n",
      " 2   Batting_Hand   563 non-null    object\n",
      " 3   Bowling_Skill  502 non-null    object\n",
      " 4   Country        471 non-null    object\n",
      "dtypes: object(5)\n",
      "memory usage: 22.2+ KB\n",
      "None\n"
     ]
    }
   ],
   "source": [
    "# info of the dataset\n",
    "\n",
    "print(players.info())\n"
   ]
  },
  {
   "cell_type": "code",
   "execution_count": 7,
   "id": "88ce78d3",
   "metadata": {},
   "outputs": [
    {
     "name": "stdout",
     "output_type": "stream",
     "text": [
      "                         team1\n",
      "count                       15\n",
      "unique                      15\n",
      "top     Rising Pune Supergiant\n",
      "freq                         1\n"
     ]
    }
   ],
   "source": [
    "   # describe/summary of the data\n",
    "    \n",
    "    print(teams.describe())\n"
   ]
  },
  {
   "cell_type": "code",
   "execution_count": 8,
   "id": "5e6269d2",
   "metadata": {},
   "outputs": [
    {
     "data": {
      "image/png": "[encoded data removed]",
      "text/plain": [
       "<Figure size 432x288 with 1 Axes>"
      ]
     },
     "metadata": {
      "needs_background": "light"
     },
     "output_type": "display_data"
    },
    {
     "name": "stdout",
     "output_type": "stream",
     "text": [
      "None\n"
     ]
    }
   ],
   "source": [
    "# plot 1\n",
    "\n",
    "sr = avgstrike['strikerate']\n",
    "\n",
    "plt.hist(sr)\n",
    "\n",
    "plt.xlabel('Strike Rate')\n",
    "plt.ylabel('count')\n",
    "print(plt.show())\n"
   ]
  },
  {
   "cell_type": "code",
   "execution_count": 12,
   "id": "178b25b0",
   "metadata": {},
   "outputs": [
    {
     "data": {
      "image/png": "[encoded data removed]",
      "text/plain": [
       "<Figure size 432x288 with 1 Axes>"
      ]
     },
     "metadata": {
      "needs_background": "light"
     },
     "output_type": "display_data"
    },
    {
     "name": "stdout",
     "output_type": "stream",
     "text": [
      "None\n"
     ]
    }
   ],
   "source": [
    "# plot 2\n",
    "\n",
    "x = teamwisewinnigs['team']\n",
    "#print(x)\n",
    "y=teamwisewinnigs['away_wins']\n",
    "#print (y)\n",
    "plt.barh(x,y,height = 0.1)\n",
    "\n",
    "plt.ylabel('Total Names')\n",
    "plt.xlabel(' home away Wins ')\n",
    "print(plt.show())\n"
   ]
  },
  {
   "cell_type": "code",
   "execution_count": 13,
   "id": "2142e56e",
   "metadata": {},
   "outputs": [
    {
     "data": {
      "image/png": "[encoded data removed]",
      "text/plain": [
       "<Figure size 432x288 with 1 Axes>"
      ]
     },
     "metadata": {
      "needs_background": "light"
     },
     "output_type": "display_data"
    },
    {
     "name": "stdout",
     "output_type": "stream",
     "text": [
      "None\n"
     ]
    }
   ],
   "source": [
    "# plot 3\n",
    "\n",
    "x= teamwisewinnigs['home_wins']\n",
    "y = teamwisewinnigs['team']\n",
    "z  = teamwisewinnigs['home_win_percentage']\n",
    "plt.scatter(x,y, c=z)\n",
    "plt.xlabel('  Home win Matches')\n",
    "plt.ylabel('Team Names')\n",
    "print(plt.show( ))\n"
   ]
  },
  {
   "cell_type": "code",
   "execution_count": null,
   "id": "761e9bee",
   "metadata": {},
   "outputs": [],
   "source": []
  }
 ],
 "metadata": {
  "kernelspec": {
   "display_name": "Python 3",
   "language": "python",
   "name": "python3"
  },
  "language_info": {
   "codemirror_mode": {
    "name": "ipython",
    "version": 3
   },
   "file_extension": ".py",
   "mimetype": "text/x-python",
   "name": "python",
   "nbconvert_exporter": "python",
   "pygments_lexer": "ipython3",
   "version": "3.8.8"
  }
 },
 "nbformat": 4,
 "nbformat_minor": 5
}
